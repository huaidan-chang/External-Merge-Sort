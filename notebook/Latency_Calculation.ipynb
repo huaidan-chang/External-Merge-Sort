{
 "cells": [
  {
   "cell_type": "markdown",
   "id": "74e7cd9a-f7cb-49cf-ba52-658d52ccfe71",
   "metadata": {},
   "source": [
    "## Configurations"
   ]
  },
  {
   "cell_type": "code",
   "execution_count": 2,
   "id": "d8f32980-d550-44dc-81c5-f8cba3f5e52f",
   "metadata": {},
   "outputs": [],
   "source": [
    "def to_scientific_notation(num):\n",
    "    return \"{:.1e}\".format(num)"
   ]
  },
  {
   "cell_type": "code",
   "execution_count": 3,
   "id": "03131008-a8bb-4bbb-8092-55d13bbba1b8",
   "metadata": {},
   "outputs": [],
   "source": [
    "KB = 1_000\n",
    "MB = 1_000_000\n",
    "GB = 1_000_000_000\n",
    "\n",
    "#fixed\n",
    "HDD_size = 2 ** 100          # HDD has unlimited storage\n",
    "SSD_size = 10 * GB           # SSD is 10GB\n",
    "total_data_size = 120 * GB   \n",
    "\n",
    "#variables\n",
    "SSD_page_size = 0\n",
    "HDD_page_size = 0\n",
    "\n",
    "SSD_latency = 0.1 # in millisecond, given in slide but modifiable\n",
    "HDD_latency = 10  # in millisecond, given in slide but modifiable\n",
    "\n",
    "SSD_bandwidth = 100 * MB * 1000 # millisecond\n",
    "HDD_bandwidth = 100 * MB * 1000 # millisecond  "
   ]
  },
  {
   "cell_type": "markdown",
   "id": "420db736-6a9d-4856-a1ea-8dd960ce045e",
   "metadata": {},
   "source": [
    "### SSD Page size"
   ]
  },
  {
   "cell_type": "code",
   "execution_count": 4,
   "id": "fe8bdfd3-773a-41c0-b284-8f1b89c4a8eb",
   "metadata": {},
   "outputs": [],
   "source": [
    "# Page size = Bandwidth * latency"
   ]
  },
  {
   "cell_type": "code",
   "execution_count": 5,
   "id": "b8556bfd-a578-4914-9e24-fe59bc5cafe8",
   "metadata": {},
   "outputs": [
    {
     "name": "stdout",
     "output_type": "stream",
     "text": [
      "Total data size: 1.2e+11 bytes\n",
      "Total latency for SSD\n",
      "total_latency = total_data_size / SSD_page_size * (SSD_latency + trasnfer_time)\n",
      "\n",
      "=====8KB=====\n",
      "transfer time: 8.0e-08 ms/page\n",
      "total latency: 1.5e+06 ms\n",
      "=====16KB=====\n",
      "transfer time: 1.6e-07 ms/page\n",
      "total latency: 7.5e+05 ms\n",
      "=====32KB=====\n",
      "transfer time: 3.2e-07 ms/page\n",
      "total latency: 3.8e+05 ms\n",
      "=====64KB=====\n",
      "transfer time: 6.4e-07 ms/page\n",
      "total latency: 1.9e+05 ms\n",
      "=====1MB=====\n",
      "transfer time: 1.0e-05 ms/page\n",
      "total latency: 1.2e+04 ms\n",
      "=====8MB=====\n",
      "transfer time: 8.0e-05 ms/page\n",
      "total latency: 1.5e+03 ms\n",
      "=====100MB=====\n",
      "transfer time: 1.0e-03 ms/page\n",
      "total latency: 1.2e+02 ms\n"
     ]
    }
   ],
   "source": [
    "print(\"Total data size: \" + to_scientific_notation(total_data_size) + \" bytes\" )\n",
    "print(\"Total latency for SSD\")\n",
    "print(\"total_latency = total_data_size / SSD_page_size * (SSD_latency + trasnfer_time)\\n\")\n",
    "\n",
    "SSD_page_size = 8 * KB\n",
    "trasnfer_time = SSD_page_size / SSD_bandwidth\n",
    "total_latency_8KB_SSD = total_data_size / SSD_page_size * (SSD_latency + trasnfer_time)\n",
    "print(\"=====8KB=====\")\n",
    "print(\"transfer time: \" + to_scientific_notation(trasnfer_time) + \" ms/page\")\n",
    "print(\"total latency: \" + to_scientific_notation(total_latency_8KB_SSD) + \" ms\")\n",
    "\n",
    "SSD_page_size = 16 * KB\n",
    "trasnfer_time = SSD_page_size / SSD_bandwidth\n",
    "total_latency_16KB_SSD = total_data_size / SSD_page_size * (SSD_latency + trasnfer_time)\n",
    "print(\"=====16KB=====\")\n",
    "print(\"transfer time: \" + to_scientific_notation(trasnfer_time) + \" ms/page\")\n",
    "print(\"total latency: \" + to_scientific_notation(total_latency_16KB_SSD) + \" ms\")\n",
    "\n",
    "\n",
    "SSD_page_size = 32 * KB\n",
    "trasnfer_time = SSD_page_size / SSD_bandwidth\n",
    "total_latency_32KB_SSD = total_data_size / SSD_page_size * (SSD_latency + trasnfer_time)\n",
    "print(\"=====32KB=====\")\n",
    "print(\"transfer time: \" + to_scientific_notation(trasnfer_time) + \" ms/page\")\n",
    "print(\"total latency: \" + to_scientific_notation(total_latency_32KB_SSD) + \" ms\")\n",
    "\n",
    "SSD_page_size = 64 * KB\n",
    "trasnfer_time = SSD_page_size / SSD_bandwidth\n",
    "total_latency_64KB_SSD = total_data_size / SSD_page_size * (SSD_latency + trasnfer_time)\n",
    "print(\"=====64KB=====\")\n",
    "print(\"transfer time: \" + to_scientific_notation(trasnfer_time) + \" ms/page\")\n",
    "print(\"total latency: \" + to_scientific_notation(total_latency_64KB_SSD) + \" ms\")\n",
    "\n",
    "SSD_page_size = 1 * MB\n",
    "trasnfer_time = SSD_page_size / SSD_bandwidth\n",
    "total_latency_1MB_SSD = total_data_size / SSD_page_size * (SSD_latency + trasnfer_time)\n",
    "print(\"=====1MB=====\")\n",
    "print(\"transfer time: \" + to_scientific_notation(trasnfer_time) + \" ms/page\")\n",
    "print(\"total latency: \" + to_scientific_notation(total_latency_1MB_SSD) + \" ms\")\n",
    "\n",
    "SSD_page_size = 8 * MB\n",
    "trasnfer_time = SSD_page_size / SSD_bandwidth\n",
    "total_latency_8MB_SSD = total_data_size / SSD_page_size * (SSD_latency + trasnfer_time)\n",
    "print(\"=====8MB=====\")\n",
    "print(\"transfer time: \" + to_scientific_notation(trasnfer_time) + \" ms/page\")\n",
    "print(\"total latency: \" + to_scientific_notation(total_latency_8MB_SSD) + \" ms\")\n",
    "\n",
    "SSD_page_size = 100 * MB\n",
    "trasnfer_time = SSD_page_size / SSD_bandwidth\n",
    "total_latency_100MB_SSD = total_data_size / SSD_page_size * (SSD_latency + trasnfer_time)\n",
    "print(\"=====100MB=====\")\n",
    "print(\"transfer time: \" + to_scientific_notation(trasnfer_time) + \" ms/page\")\n",
    "print(\"total latency: \" + to_scientific_notation(total_latency_100MB_SSD) + \" ms\")"
   ]
  },
  {
   "cell_type": "markdown",
   "id": "001b1462-674a-4ba3-91b5-1f2c1745f89e",
   "metadata": {},
   "source": [
    "### HDD Page size"
   ]
  },
  {
   "cell_type": "code",
   "execution_count": 6,
   "id": "b0dc2deb-153d-42cd-86e2-7bbf4750c5b9",
   "metadata": {},
   "outputs": [
    {
     "name": "stdout",
     "output_type": "stream",
     "text": [
      "Total latency for HDD\n",
      "=====64KB=====\n",
      "transfer time: 6.4e-07 ms/page\n",
      "total latency: 1.9e+07 ms\n",
      "=====1MB=====\n",
      "transfer time: 1.0e-05 ms/page\n",
      "total latency: 1.2e+06 ms\n",
      "=====8MB=====\n",
      "transfer time: 8.0e-05 ms/page\n",
      "total latency: 1.5e+05 ms\n",
      "=====100MB=====\n",
      "transfer time: 1.0e-03 ms/page\n",
      "total latency: 1.2e+04 ms\n"
     ]
    }
   ],
   "source": [
    "print(\"Total latency for HDD\")\n",
    "\n",
    "HDD_page_size = 64 * KB\n",
    "trasnfer_time = HDD_page_size / HDD_bandwidth\n",
    "total_latency_64KB_HDD = total_data_size / HDD_page_size * (HDD_latency + trasnfer_time)\n",
    "print(\"=====64KB=====\")\n",
    "print(\"transfer time: \" + to_scientific_notation(trasnfer_time) + \" ms/page\")\n",
    "print(\"total latency: \" + to_scientific_notation(total_latency_64KB_HDD) + \" ms\")\n",
    "\n",
    "HDD_page_size = 1 * MB\n",
    "trasnfer_time = HDD_page_size / HDD_bandwidth\n",
    "total_latency_1MB_HDD = total_data_size / HDD_page_size * (HDD_latency + trasnfer_time)\n",
    "print(\"=====1MB=====\")\n",
    "print(\"transfer time: \" + to_scientific_notation(trasnfer_time) + \" ms/page\")\n",
    "print(\"total latency: \" + to_scientific_notation(total_latency_1MB_HDD) + \" ms\")\n",
    "\n",
    "HDD_page_size = 8 * MB\n",
    "trasnfer_time = HDD_page_size / HDD_bandwidth\n",
    "total_latency_8MB_HDD = total_data_size / HDD_page_size * (HDD_latency + trasnfer_time)\n",
    "print(\"=====8MB=====\")\n",
    "print(\"transfer time: \" + to_scientific_notation(trasnfer_time) + \" ms/page\")\n",
    "print(\"total latency: \" + to_scientific_notation(total_latency_8MB_HDD) + \" ms\")\n",
    "\n",
    "HDD_page_size = 100 * MB\n",
    "trasnfer_time = HDD_page_size / HDD_bandwidth\n",
    "total_latency_100MB_HDD = total_data_size / HDD_page_size * (HDD_latency + trasnfer_time)\n",
    "print(\"=====100MB=====\")\n",
    "print(\"transfer time: \" + to_scientific_notation(trasnfer_time) + \" ms/page\")\n",
    "print(\"total latency: \" + to_scientific_notation(total_latency_100MB_HDD) + \" ms\")"
   ]
  },
  {
   "cell_type": "code",
   "execution_count": 7,
   "id": "eb634f89-d02b-45a9-a545-1372c493ff81",
   "metadata": {},
   "outputs": [
    {
     "data": {
      "text/plain": [
       "'3.8e+06'"
      ]
     },
     "execution_count": 7,
     "metadata": {},
     "output_type": "execute_result"
    }
   ],
   "source": [
    "#plan 1\n",
    "to_scientific_notation(1.2e+04 + 1.2e+04 + 1.2e+06 + 1.2e+06 + 1.5e+05 +  1.2e+06 )"
   ]
  },
  {
   "cell_type": "markdown",
   "metadata": {},
   "source": []
  },
  {
   "cell_type": "code",
   "execution_count": 8,
   "id": "97e09092-b9ee-4a73-85c1-5eb67a0a281a",
   "metadata": {},
   "outputs": [
    {
     "data": {
      "text/plain": [
       "'2.0e+07'"
      ]
     },
     "execution_count": 8,
     "metadata": {},
     "output_type": "execute_result"
    }
   ],
   "source": [
    "#plan 2\n",
    "to_scientific_notation(1.2e+04 + 1.2e+04 + 1.9e+07 + 1.2e+06)"
   ]
  },
  {
   "cell_type": "code",
   "execution_count": 9,
   "id": "b3052bd6-d5a4-4f6b-bfd8-66319c933d6e",
   "metadata": {},
   "outputs": [
    {
     "data": {
      "text/plain": [
       "'5.1e+06'"
      ]
     },
     "execution_count": 9,
     "metadata": {},
     "output_type": "execute_result"
    }
   ],
   "source": [
    "#plan 3 \n",
    "# to_scientific_notation(1.2e+04 + 1.3e+03 + 1.3e+04 + 1.2e+04 + 1.5e+05 + 1.2e+06)\n",
    "to_scientific_notation(total_latency_100MB_HDD +  # step 0: READ unsorted 100MB runs to ram\n",
    "                       total_latency_100MB_SSD +  # step 1: WRITE unsorted 100MB runs to SSD (100 runs at a time)\n",
    "                       total_latency_8KB_SSD +    # step 2: READ unsorted 8KB mini runs to ram\n",
    "                       total_latency_1MB_HDD +    # step 3: WRITE sorted 1MB mini outputs to ram (generate 12 sorted 10GB outputs)\n",
    "                       total_latency_1MB_HDD +    # step 4: READ sorted 10GB runs to ram \n",
    "                       total_latency_1MB_HDD)     # step 5: WRITE sorted 1MB output to ram"
   ]
  },
  {
   "cell_type": "code",
   "execution_count": 10,
   "id": "3edbbc47-066e-46be-91ac-a6a9c0e08c24",
   "metadata": {},
   "outputs": [
    {
     "data": {
      "text/plain": [
       "'1.6e+06'"
      ]
     },
     "execution_count": 10,
     "metadata": {},
     "output_type": "execute_result"
    }
   ],
   "source": [
    "#plan 4\n",
    "to_scientific_notation(1.2e+04 + 1.2e+04 + 1.5e+05 + 2.7e+03 + 1.9e+05 + 1.2e+06)"
   ]
  },
  {
   "cell_type": "code",
   "execution_count": 17,
   "metadata": {},
   "outputs": [
    {
     "data": {
      "text/plain": [
       "15500000.0"
      ]
     },
     "execution_count": 17,
     "metadata": {},
     "output_type": "execute_result"
    }
   ],
   "source": [
    "15.5 * GB / KB"
   ]
  },
  {
   "cell_type": "code",
   "execution_count": 15,
   "metadata": {},
   "outputs": [
    {
     "data": {
      "text/plain": [
       "5.0"
      ]
     },
     "execution_count": 15,
     "metadata": {},
     "output_type": "execute_result"
    }
   ],
   "source": [
    "5000000 * KB / GB"
   ]
  },
  {
   "cell_type": "markdown",
   "metadata": {},
   "source": [
    "120GB: 120,000,000 records \n",
    "112.123123 GB: 112, 123, 123 records\n",
    "\n",
    "10GB is 10,000,000 records\n",
    "leftover for 10GB is 112,123,123 % 10,000,000 = 2,123,123 records\n",
    "\n",
    "100MB is 100,000 records\n",
    "leftover for 100MB is 2,123,123 % 100,000 records = 23,123 records\n",
    "\n",
    "1MB is 1,000 records\n",
    "leftover for 1MB is 23,123 % 1,000 = 123 records\n",
    "\n",
    "\n",
    "\n",
    "32MB is 32000 records\n",
    "320MB is 320000 records"
   ]
  },
  {
   "cell_type": "code",
   "execution_count": 19,
   "metadata": {},
   "outputs": [
    {
     "data": {
      "text/plain": [
       "23123"
      ]
     },
     "execution_count": 19,
     "metadata": {},
     "output_type": "execute_result"
    }
   ],
   "source": [
    "2123123 % 100000"
   ]
  },
  {
   "cell_type": "markdown",
   "metadata": {},
   "source": [
    "32,000 records\n",
    "32,000,000 KB\n",
    "32,000 MB"
   ]
  }
 ],
 "metadata": {
  "kernelspec": {
   "display_name": "Python 3 (ipykernel)",
   "language": "python",
   "name": "python3"
  },
  "language_info": {
   "codemirror_mode": {
    "name": "ipython",
    "version": 3
   },
   "file_extension": ".py",
   "mimetype": "text/x-python",
   "name": "python",
   "nbconvert_exporter": "python",
   "pygments_lexer": "ipython3",
   "version": "3.9.6"
  }
 },
 "nbformat": 4,
 "nbformat_minor": 5
}
